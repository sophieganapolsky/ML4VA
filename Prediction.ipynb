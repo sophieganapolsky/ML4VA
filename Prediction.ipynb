{
  "cells": [
    {
      "cell_type": "code",
      "execution_count": 1,
      "metadata": {
        "colab": {
          "base_uri": "https://localhost:8080/"
        },
        "id": "nqechbnfImxj",
        "outputId": "cef079e6-5e56-4835-f77d-13cfd487c7e4"
      },
      "outputs": [],
      "source": [
        "#! wget https://data.virginia.gov/dataset/de833a43-7019-444c-8384-9e0cf5255140/resource/60506bbb-685f-4360-8a8c-30e137ce3615/download/community-policing-data.csv"
      ]
    },
    {
      "cell_type": "code",
      "execution_count": 2,
      "metadata": {
        "id": "QiX8cl4zJ6Qq"
      },
      "outputs": [],
      "source": [
        "import pandas as pd\n",
        "import numpy as np\n",
        "from sklearn.impute import SimpleImputer\n",
        "from sklearn.preprocessing import LabelEncoder, OneHotEncoder, OrdinalEncoder, FunctionTransformer\n",
        "from sklearn.pipeline import Pipeline\n",
        "from sklearn.preprocessing import StandardScaler\n",
        "from sklearn.compose import ColumnTransformer\n",
        "\n",
        "from sklearn.model_selection import train_test_split"
      ]
    },
    {
      "cell_type": "code",
      "execution_count": 3,
      "metadata": {
        "colab": {
          "base_uri": "https://localhost:8080/"
        },
        "id": "_OVbraCvLEjS",
        "outputId": "a5d86944-621e-4f79-e105-51dcaabaa3a9"
      },
      "outputs": [
        {
          "name": "stderr",
          "output_type": "stream",
          "text": [
            "C:\\Users\\sophi\\AppData\\Local\\Temp\\ipykernel_34276\\4050143798.py:1: DtypeWarning: Columns (13,16) have mixed types. Specify dtype option on import or set low_memory=False.\n",
            "  data = pd.read_csv(\"community-policing-data.csv\", on_bad_lines=\"skip\")\n"
          ]
        }
      ],
      "source": [
        "data = pd.read_csv(\"community-policing-data.csv\", on_bad_lines=\"skip\")\n",
        "terry_stops = data[data[\"REASON FOR STOP\"] == \"Terry Stop\"]"
      ]
    },
    {
      "cell_type": "code",
      "execution_count": 4,
      "metadata": {
        "colab": {
          "base_uri": "https://localhost:8080/"
        },
        "id": "nJg87FJAMfCN",
        "outputId": "c6c9e19f-bf2c-4cf6-ba5d-21b21cfe5357"
      },
      "outputs": [
        {
          "name": "stderr",
          "output_type": "stream",
          "text": [
            "C:\\Users\\sophi\\AppData\\Local\\Temp\\ipykernel_34276\\3029540058.py:4: FutureWarning: A value is trying to be set on a copy of a DataFrame or Series through chained assignment using an inplace method.\n",
            "The behavior will change in pandas 3.0. This inplace method will never work because the intermediate object on which we are setting values always behaves as a copy.\n",
            "\n",
            "For example, when doing 'df[col].method(value, inplace=True)', try using 'df.method({col: value}, inplace=True)' or df[col] = df[col].method(value) instead, to perform the operation inplace on the original object.\n",
            "\n",
            "\n",
            "  terry_stops[feature].replace('-', np.nan, inplace= True)\n",
            "C:\\Users\\sophi\\AppData\\Local\\Temp\\ipykernel_34276\\3029540058.py:4: SettingWithCopyWarning: \n",
            "A value is trying to be set on a copy of a slice from a DataFrame\n",
            "\n",
            "See the caveats in the documentation: https://pandas.pydata.org/pandas-docs/stable/user_guide/indexing.html#returning-a-view-versus-a-copy\n",
            "  terry_stops[feature].replace('-', np.nan, inplace= True)\n"
          ]
        }
      ],
      "source": [
        "# replace - with NaN\n",
        "feature_list = [\"FORCE USED BY SUBJECT\", \"FORCE USED BY OFFICER\", \"VEHICLE SEARCHED\", \"PERSON SEARCHED\", \"ENGLISH SPEAKING\"]\n",
        "for feature in feature_list:\n",
        "  terry_stops[feature].replace('-', np.nan, inplace= True)\n"
      ]
    },
    {
      "cell_type": "code",
      "execution_count": 5,
      "metadata": {
        "id": "tnFPXq77NZUc"
      },
      "outputs": [],
      "source": [
        "# removing all the columns with all null values\n",
        "terry_stops = terry_stops.drop(columns = [\"VIOLATION TYPE\", \"ADDITIONAL ARREST\", \"VIRGINIA CRIME CODE\"])\n",
        "\n",
        "# the features without null values are:\n",
        "# stop date, agency name, jurisdiction, reason for stop, person type, race, ethnicity, age, gender, action taken, residency"
      ]
    },
    {
      "cell_type": "code",
      "execution_count": 6,
      "metadata": {
        "id": "LdoERcPzO-_1"
      },
      "outputs": [],
      "source": [
        "# I am going to remove reason for stop because they are all the same\n",
        "terry_stops = terry_stops.drop(columns = [\"REASON FOR STOP\"])\n",
        "\n",
        "# I am going to remove this for the clustering because it is not helpful\n",
        "# We can later do it by month or year if we are intrested but not for now\n",
        "terry_stops = terry_stops.drop(columns = [\"STOP_DATE\"])\n",
        "\n",
        "\n",
        "# I am dropping these because I think jurisdiction cover the same info, but its less grandular so might led to fewer generalizations\n",
        "terry_stops = terry_stops.drop(columns = [\"AGENCY NAME\",\t\"LOCATION\"])"
      ]
    },
    {
      "cell_type": "code",
      "execution_count": 7,
      "metadata": {},
      "outputs": [
        {
          "name": "stderr",
          "output_type": "stream",
          "text": [
            "C:\\Users\\sophi\\AppData\\Local\\Temp\\ipykernel_34276\\3713651789.py:2: FutureWarning: A value is trying to be set on a copy of a DataFrame or Series through chained assignment using an inplace method.\n",
            "The behavior will change in pandas 3.0. This inplace method will never work because the intermediate object on which we are setting values always behaves as a copy.\n",
            "\n",
            "For example, when doing 'df[col].method(value, inplace=True)', try using 'df.method({col: value}, inplace=True)' or df[col] = df[col].method(value) instead, to perform the operation inplace on the original object.\n",
            "\n",
            "\n",
            "  terry_stops['FORCE USED BY OFFICER'].replace('Y', 1, inplace= True)\n",
            "C:\\Users\\sophi\\AppData\\Local\\Temp\\ipykernel_34276\\3713651789.py:3: FutureWarning: A value is trying to be set on a copy of a DataFrame or Series through chained assignment using an inplace method.\n",
            "The behavior will change in pandas 3.0. This inplace method will never work because the intermediate object on which we are setting values always behaves as a copy.\n",
            "\n",
            "For example, when doing 'df[col].method(value, inplace=True)', try using 'df.method({col: value}, inplace=True)' or df[col] = df[col].method(value) instead, to perform the operation inplace on the original object.\n",
            "\n",
            "\n",
            "  terry_stops['FORCE USED BY OFFICER'].replace('N', 0, inplace=True)\n",
            "C:\\Users\\sophi\\AppData\\Local\\Temp\\ipykernel_34276\\3713651789.py:3: FutureWarning: Downcasting behavior in `replace` is deprecated and will be removed in a future version. To retain the old behavior, explicitly call `result.infer_objects(copy=False)`. To opt-in to the future behavior, set `pd.set_option('future.no_silent_downcasting', True)`\n",
            "  terry_stops['FORCE USED BY OFFICER'].replace('N', 0, inplace=True)\n"
          ]
        }
      ],
      "source": [
        "terry_stops = terry_stops[terry_stops['FORCE USED BY OFFICER'].notna()]\n",
        "terry_stops['FORCE USED BY OFFICER'].replace('Y', 1, inplace= True)\n",
        "terry_stops['FORCE USED BY OFFICER'].replace('N', 0, inplace=True)\n",
        "\n",
        "Y = terry_stops['FORCE USED BY OFFICER']\n",
        "X = terry_stops.drop('FORCE USED BY OFFICER', axis=1)"
      ]
    },
    {
      "cell_type": "code",
      "execution_count": 8,
      "metadata": {
        "colab": {
          "base_uri": "https://localhost:8080/"
        },
        "id": "p2hhA30qQTCz",
        "outputId": "d537e2c5-b53a-45c7-d676-5f3c9dd38a97"
      },
      "outputs": [
        {
          "name": "stdout",
          "output_type": "stream",
          "text": [
            "['PERSON SEARCHED', 'VEHICLE SEARCHED', 'FORCE USED BY SUBJECT', 'ENGLISH SPEAKING', 'PERSON TYPE_Driver', 'PERSON TYPE_Missing', 'PERSON TYPE_Other Individual', 'PERSON TYPE_Passenger', 'RACE_American Indian or Alaska Native', 'RACE_Asian or Native Hawaiian or Other Pacific Islander', 'RACE_Black or African American', 'RACE_Missing', 'RACE_Unknown', 'RACE_White', 'ETHNICITY_Hispanic or Latino', 'ETHNICITY_Non-Hispanic or Latino', 'ETHNICITY_Unknown', 'GENDER_Female', 'GENDER_Male', 'GENDER_Missing', 'GENDER_Other', 'GENDER_Unknown', 'RESIDENCY_Missing', 'RESIDENCY_Other Virginia jurisdiction resident', 'RESIDENCY_Out of State resident', 'RESIDENCY_Resident of city/county of stop', 'RESIDENCY_Unknown', 'ACTION TAKEN_Arrest', 'ACTION TAKEN_Citation/Summons', 'ACTION TAKEN_Missing', 'ACTION TAKEN_No Enforcement Action', 'ACTION TAKEN_Warning Issued', 'JURISDICTION']\n",
            "(30858, 33)\n"
          ]
        }
      ],
      "source": [
        "num_pipeline = Pipeline([\n",
        "        ('imputer', SimpleImputer(strategy=\"median\")),\n",
        "        ('std_scaler', StandardScaler())\n",
        "    ])\n",
        "\n",
        "\n",
        "num_attribs = list(X.select_dtypes(include=[np.number]))\n",
        "# These are the categorical values that I thought would be most useful\n",
        "cat_few = [\"PERSON TYPE\",\"RACE\",\"ETHNICITY\", \"GENDER\", \"RESIDENCY\", \"ACTION TAKEN\"]\n",
        "cat_binary = [\"PERSON SEARCHED\",\"VEHICLE SEARCHED\",\t\"FORCE USED BY SUBJECT\", \"ENGLISH SPEAKING\"]\n",
        "cat_alot = [\"JURISDICTION\"]\n",
        "encoder = LabelEncoder()\n",
        "\n",
        "def binary_map(X):\n",
        "    return np.where(X == \"Y\", 1, 0)\n",
        "binary_encoder = FunctionTransformer(binary_map)\n",
        "\n",
        "full_pipeline = ColumnTransformer([\n",
        "        (\"num\", num_pipeline, num_attribs),\n",
        "        (\"binary\", binary_encoder, cat_binary),\n",
        "        (\"cat_few\", OneHotEncoder(handle_unknown='ignore'), cat_few),\n",
        "        (\"cat_alot\", OrdinalEncoder(), cat_alot)\n",
        "    ])\n",
        "\n",
        "X = full_pipeline.fit_transform(X)\n",
        "feature_names = (\n",
        "    list(num_attribs) +\n",
        "    list(cat_binary) +\n",
        "    list(full_pipeline.named_transformers_[\"cat_few\"].get_feature_names_out(cat_few)) +\n",
        "    list(cat_alot)\n",
        ")\n",
        "print(feature_names)\n",
        "\n",
        "print(X.shape)"
      ]
    },
    {
      "cell_type": "markdown",
      "metadata": {},
      "source": [
        "# Predicting whether force is used"
      ]
    },
    {
      "cell_type": "markdown",
      "metadata": {},
      "source": [
        "## Using all characteristics for now"
      ]
    },
    {
      "cell_type": "code",
      "execution_count": 9,
      "metadata": {},
      "outputs": [],
      "source": [
        "from sklearn.model_selection import train_test_split, GridSearchCV\n",
        "from sklearn.metrics import classification_report, accuracy_score, confusion_matrix, f1_score, precision_recall_curve, recall_score, roc_auc_score, roc_curve, ConfusionMatrixDisplay\n",
        "from sklearn.ensemble import RandomForestClassifier, GradientBoostingClassifier\n",
        "import seaborn as sns"
      ]
    },
    {
      "cell_type": "code",
      "execution_count": 10,
      "metadata": {},
      "outputs": [],
      "source": [
        "X_train, X_test, y_train, y_test = train_test_split(X, Y, test_size=0.2, random_state=42)"
      ]
    },
    {
      "cell_type": "markdown",
      "metadata": {},
      "source": [
        "### Random Forest"
      ]
    },
    {
      "cell_type": "code",
      "execution_count": 12,
      "metadata": {},
      "outputs": [
        {
          "data": {
            "text/plain": [
              "'              precision    recall  f1-score   support\\n\\n           0       0.99      1.00      0.99      6087\\n           1       0.68      0.47      0.56        85\\n\\n    accuracy                           0.99      6172\\n   macro avg       0.84      0.73      0.78      6172\\nweighted avg       0.99      0.99      0.99      6172\\n'"
            ]
          },
          "execution_count": 12,
          "metadata": {},
          "output_type": "execute_result"
        }
      ],
      "source": [
        "rf = RandomForestClassifier(random_state=42)\n",
        "rf.fit(X_train, y_train)\n",
        "y_pred_rf = rf.predict(X_test)\n",
        "classification_report(y_pred=y_pred_rf, y_true=y_test)"
      ]
    },
    {
      "cell_type": "code",
      "execution_count": 13,
      "metadata": {},
      "outputs": [
        {
          "data": {
            "text/plain": [
              "<Axes: >"
            ]
          },
          "execution_count": 13,
          "metadata": {},
          "output_type": "execute_result"
        },
        {
          "data": {
            "image/png": "[encoded data removed]",
            "text/plain": [
              "<Figure size 640x480 with 2 Axes>"
            ]
          },
          "metadata": {},
          "output_type": "display_data"
        }
      ],
      "source": [
        "cnf_rf = confusion_matrix(y_pred=y_pred_rf, y_true=y_test)\n",
        "sns.heatmap(cnf_rf/np.sum(cnf_rf), annot=True, fmt=\".2%\", cmap='RdPu')"
      ]
    }
  ],
  "metadata": {
    "colab": {
      "provenance": []
    },
    "kernelspec": {
      "display_name": "My-Env",
      "language": "python",
      "name": "python3"
    },
    "language_info": {
      "codemirror_mode": {
        "name": "ipython",
        "version": 3
      },
      "file_extension": ".py",
      "mimetype": "text/x-python",
      "name": "python",
      "nbconvert_exporter": "python",
      "pygments_lexer": "ipython3",
      "version": "3.10.6"
    }
  },
  "nbformat": 4,
  "nbformat_minor": 0
}
